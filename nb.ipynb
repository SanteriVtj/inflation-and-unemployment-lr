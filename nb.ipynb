{
 "metadata": {
  "language_info": {
   "codemirror_mode": {
    "name": "ipython",
    "version": 3
   },
   "file_extension": ".py",
   "mimetype": "text/x-python",
   "name": "python",
   "nbconvert_exporter": "python",
   "pygments_lexer": "ipython3",
   "version": "3.8.3-final"
  },
  "orig_nbformat": 2,
  "kernelspec": {
   "name": "Python 3.8.3 64-bit ('base': conda)",
   "display_name": "Python 3.8.3 64-bit ('base': conda)",
   "metadata": {
    "interpreter": {
     "hash": "c0fcc2a44fcf227b4f1f25af2bd094a575f895c0212a232970ea1cf881242b12"
    }
   }
  }
 },
 "nbformat": 4,
 "nbformat_minor": 2,
 "cells": [
  {
   "cell_type": "code",
   "execution_count": 5,
   "metadata": {},
   "outputs": [],
   "source": [
    "import numpy as np\n",
    "from matplotlib import rcParams\n",
    "import matplotlib.pyplot as plt\n",
    "import pandas as pd\n",
    "import statsmodels.api as sm\n",
    "import scipy.optimize as opt\n",
    "import scipy.interpolate as interp\n",
    "from scipy.stats import norm\n",
    "from numba import jit, njit, int32, float64\n",
    "import quantecon as qe\n",
    "\n",
    "import seaborn as sns\n",
    "from matplotlib import cm\n",
    "from mpl_toolkits.mplot3d.axes3d import Axes3D\n",
    "\n",
    "import eurostat"
   ]
  },
  {
   "cell_type": "code",
   "execution_count": 6,
   "metadata": {},
   "outputs": [
    {
     "output_type": "execute_result",
     "data": {
      "text/plain": [
       "                                                   title            code  \\\n",
       "0                                     Database by themes            data   \n",
       "1                        General and regional statistics         general   \n",
       "2      European and national indicators for short-ter...         euroind   \n",
       "3      Business and consumer surveys (source: DG ECFIN)           ei_bcs   \n",
       "4                    Consumer surveys (source: DG ECFIN)       ei_bcs_cs   \n",
       "...                                                  ...             ...   \n",
       "10121  Enterprises that provided training to develop/...  isoc_ske_ittn2   \n",
       "10122  Participation in education and training - cont...      sks_devcvt   \n",
       "10123  Enterprises providing training by type of trai...    trng_cvt_01s   \n",
       "10124  Participants in CVT courses by sex and size cl...    trng_cvt_12s   \n",
       "10125  Main skills targeted by CVT courses by type of...   trng_cvt_29n2   \n",
       "\n",
       "          type last update of data last table structure change data start  \\\n",
       "0       folder                                                              \n",
       "1       folder                                                              \n",
       "2       folder                                                              \n",
       "3       folder                                                              \n",
       "4       folder                                                              \n",
       "...        ...                 ...                         ...        ...   \n",
       "10121  dataset          13.01.2020                  27.02.2020       2012   \n",
       "10122   folder                                                              \n",
       "10123  dataset          26.02.2019                  27.02.2020       2005   \n",
       "10124  dataset          26.02.2019                  27.02.2020       2005   \n",
       "10125  dataset          26.02.2019                  27.02.2020       2010   \n",
       "\n",
       "      data end  \n",
       "0               \n",
       "1               \n",
       "2               \n",
       "3               \n",
       "4               \n",
       "...        ...  \n",
       "10121     2019  \n",
       "10122           \n",
       "10123     2015  \n",
       "10124     2015  \n",
       "10125     2015  \n",
       "\n",
       "[10126 rows x 7 columns]"
      ],
      "text/html": "<div>\n<style scoped>\n    .dataframe tbody tr th:only-of-type {\n        vertical-align: middle;\n    }\n\n    .dataframe tbody tr th {\n        vertical-align: top;\n    }\n\n    .dataframe thead th {\n        text-align: right;\n    }\n</style>\n<table border=\"1\" class=\"dataframe\">\n  <thead>\n    <tr style=\"text-align: right;\">\n      <th></th>\n      <th>title</th>\n      <th>code</th>\n      <th>type</th>\n      <th>last update of data</th>\n      <th>last table structure change</th>\n      <th>data start</th>\n      <th>data end</th>\n    </tr>\n  </thead>\n  <tbody>\n    <tr>\n      <th>0</th>\n      <td>Database by themes</td>\n      <td>data</td>\n      <td>folder</td>\n      <td></td>\n      <td></td>\n      <td></td>\n      <td></td>\n    </tr>\n    <tr>\n      <th>1</th>\n      <td>General and regional statistics</td>\n      <td>general</td>\n      <td>folder</td>\n      <td></td>\n      <td></td>\n      <td></td>\n      <td></td>\n    </tr>\n    <tr>\n      <th>2</th>\n      <td>European and national indicators for short-ter...</td>\n      <td>euroind</td>\n      <td>folder</td>\n      <td></td>\n      <td></td>\n      <td></td>\n      <td></td>\n    </tr>\n    <tr>\n      <th>3</th>\n      <td>Business and consumer surveys (source: DG ECFIN)</td>\n      <td>ei_bcs</td>\n      <td>folder</td>\n      <td></td>\n      <td></td>\n      <td></td>\n      <td></td>\n    </tr>\n    <tr>\n      <th>4</th>\n      <td>Consumer surveys (source: DG ECFIN)</td>\n      <td>ei_bcs_cs</td>\n      <td>folder</td>\n      <td></td>\n      <td></td>\n      <td></td>\n      <td></td>\n    </tr>\n    <tr>\n      <th>...</th>\n      <td>...</td>\n      <td>...</td>\n      <td>...</td>\n      <td>...</td>\n      <td>...</td>\n      <td>...</td>\n      <td>...</td>\n    </tr>\n    <tr>\n      <th>10121</th>\n      <td>Enterprises that provided training to develop/...</td>\n      <td>isoc_ske_ittn2</td>\n      <td>dataset</td>\n      <td>13.01.2020</td>\n      <td>27.02.2020</td>\n      <td>2012</td>\n      <td>2019</td>\n    </tr>\n    <tr>\n      <th>10122</th>\n      <td>Participation in education and training - cont...</td>\n      <td>sks_devcvt</td>\n      <td>folder</td>\n      <td></td>\n      <td></td>\n      <td></td>\n      <td></td>\n    </tr>\n    <tr>\n      <th>10123</th>\n      <td>Enterprises providing training by type of trai...</td>\n      <td>trng_cvt_01s</td>\n      <td>dataset</td>\n      <td>26.02.2019</td>\n      <td>27.02.2020</td>\n      <td>2005</td>\n      <td>2015</td>\n    </tr>\n    <tr>\n      <th>10124</th>\n      <td>Participants in CVT courses by sex and size cl...</td>\n      <td>trng_cvt_12s</td>\n      <td>dataset</td>\n      <td>26.02.2019</td>\n      <td>27.02.2020</td>\n      <td>2005</td>\n      <td>2015</td>\n    </tr>\n    <tr>\n      <th>10125</th>\n      <td>Main skills targeted by CVT courses by type of...</td>\n      <td>trng_cvt_29n2</td>\n      <td>dataset</td>\n      <td>26.02.2019</td>\n      <td>27.02.2020</td>\n      <td>2010</td>\n      <td>2015</td>\n    </tr>\n  </tbody>\n</table>\n<p>10126 rows × 7 columns</p>\n</div>"
     },
     "metadata": {},
     "execution_count": 6
    }
   ],
   "source": [
    "eurostat.get_toc_df()"
   ]
  },
  {
   "cell_type": "code",
   "execution_count": null,
   "metadata": {},
   "outputs": [],
   "source": []
  }
 ]
}