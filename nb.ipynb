{
 "metadata": {
  "language_info": {
   "codemirror_mode": {
    "name": "ipython",
    "version": 3
   },
   "file_extension": ".py",
   "mimetype": "text/x-python",
   "name": "python",
   "nbconvert_exporter": "python",
   "pygments_lexer": "ipython3",
   "version": "3.8.3-final"
  },
  "orig_nbformat": 2,
  "kernelspec": {
   "name": "Python 3.8.3 64-bit ('base': conda)",
   "display_name": "Python 3.8.3 64-bit ('base': conda)",
   "metadata": {
    "interpreter": {
     "hash": "c0fcc2a44fcf227b4f1f25af2bd094a575f895c0212a232970ea1cf881242b12"
    }
   }
  }
 },
 "nbformat": 4,
 "nbformat_minor": 2,
 "cells": [
  {
   "cell_type": "code",
   "execution_count": 2,
   "metadata": {},
   "outputs": [],
   "source": [
    "import numpy as np\n",
    "from matplotlib import rcParams\n",
    "import matplotlib.pyplot as plt\n",
    "import pandas as pd\n",
    "import statsmodels.api as sm\n",
    "import scipy.optimize as opt\n",
    "import scipy.interpolate as interp\n",
    "from scipy.stats import norm\n",
    "from numba import jit, njit, int32, float64\n",
    "import quantecon as qe\n",
    "\n",
    "import seaborn as sns\n",
    "from matplotlib import cm\n",
    "from mpl_toolkits.mplot3d.axes3d import Axes3D\n",
    "\n",
    "import eurostat"
   ]
  },
  {
   "cell_type": "code",
   "execution_count": 3,
   "metadata": {},
   "outputs": [],
   "source": [
    "m = {\n",
    "    'Jan': 1,\n",
    "    'Feb': 2,\n",
    "    'Mar': 3,\n",
    "    'Apr': 4,\n",
    "    'May': 5,\n",
    "    'Jun': 6,\n",
    "    'Jul': 7,\n",
    "    'Aug': 8,\n",
    "    'Sep': 9,\n",
    "    'Oct': 10,\n",
    "    'Nov': 11,\n",
    "    'Dec': 12\n",
    "}"
   ]
  },
  {
   "cell_type": "code",
   "execution_count": 11,
   "metadata": {},
   "outputs": [
    {
     "output_type": "execute_result",
     "data": {
      "text/plain": [
       "           MFI stocks    MFI flows   %-change\n",
       "1980Q1  447605.333333  3520.000000        NaN\n",
       "1980Q2  455965.333333  2461.000000        NaN\n",
       "1980Q3  465624.000000  2655.000000        NaN\n",
       "1980Q4  474421.333333  2220.333333        NaN\n",
       "1981Q1  479429.000000  2656.666667        7.1"
      ],
      "text/html": "<div>\n<style scoped>\n    .dataframe tbody tr th:only-of-type {\n        vertical-align: middle;\n    }\n\n    .dataframe tbody tr th {\n        vertical-align: top;\n    }\n\n    .dataframe thead th {\n        text-align: right;\n    }\n</style>\n<table border=\"1\" class=\"dataframe\">\n  <thead>\n    <tr style=\"text-align: right;\">\n      <th></th>\n      <th>MFI stocks</th>\n      <th>MFI flows</th>\n      <th>%-change</th>\n    </tr>\n  </thead>\n  <tbody>\n    <tr>\n      <th>1980Q1</th>\n      <td>447605.333333</td>\n      <td>3520.000000</td>\n      <td>NaN</td>\n    </tr>\n    <tr>\n      <th>1980Q2</th>\n      <td>455965.333333</td>\n      <td>2461.000000</td>\n      <td>NaN</td>\n    </tr>\n    <tr>\n      <th>1980Q3</th>\n      <td>465624.000000</td>\n      <td>2655.000000</td>\n      <td>NaN</td>\n    </tr>\n    <tr>\n      <th>1980Q4</th>\n      <td>474421.333333</td>\n      <td>2220.333333</td>\n      <td>NaN</td>\n    </tr>\n    <tr>\n      <th>1981Q1</th>\n      <td>479429.000000</td>\n      <td>2656.666667</td>\n      <td>7.1</td>\n    </tr>\n  </tbody>\n</table>\n</div>"
     },
     "metadata": {},
     "execution_count": 11
    }
   ],
   "source": [
    "m_aggreages_df = pd.read_csv('/Users/santerivaataja/Desktop/inflation-and-unemployment-lr.nosync/monetary-aggregates.csv')\n",
    "m_aggreages_df = m_aggreages_df.set_index('date')\n",
    "m_aggreages_df.index = [f'{i[:4]}-{m[i[4:]]}' for i in m_aggreages_df.index]\n",
    "mq_aggreages_df = m_aggreages_df.groupby(pd.PeriodIndex(m_aggreages_df.index, freq='Q'), axis=0).mean()\n",
    "mq_aggreages_df.head()\n"
   ]
  },
  {
   "cell_type": "code",
   "execution_count": 13,
   "metadata": {},
   "outputs": [
    {
     "output_type": "execute_result",
     "data": {
      "text/plain": [
       "   s_adj sex     age    unit geo\\time  1995Q1  1995Q2  1995Q3  1995Q4  1996Q1  \\\n",
       "10    SA   T  Y15-74  PC_ACT       FI     NaN    15.5    15.1    14.5    14.1   \n",
       "\n",
       "    ...  2018Q1  2018Q2  2018Q3  2018Q4  2019Q1  2019Q2  2019Q3  2019Q4  \\\n",
       "10  ...     8.3     7.2     7.2     6.7     6.7     6.6     6.8     6.8   \n",
       "\n",
       "    2020Q1  2020Q2  \n",
       "10     6.8     7.7  \n",
       "\n",
       "[1 rows x 107 columns]"
      ],
      "text/html": "<div>\n<style scoped>\n    .dataframe tbody tr th:only-of-type {\n        vertical-align: middle;\n    }\n\n    .dataframe tbody tr th {\n        vertical-align: top;\n    }\n\n    .dataframe thead th {\n        text-align: right;\n    }\n</style>\n<table border=\"1\" class=\"dataframe\">\n  <thead>\n    <tr style=\"text-align: right;\">\n      <th></th>\n      <th>s_adj</th>\n      <th>sex</th>\n      <th>age</th>\n      <th>unit</th>\n      <th>geo\\time</th>\n      <th>1995Q1</th>\n      <th>1995Q2</th>\n      <th>1995Q3</th>\n      <th>1995Q4</th>\n      <th>1996Q1</th>\n      <th>...</th>\n      <th>2018Q1</th>\n      <th>2018Q2</th>\n      <th>2018Q3</th>\n      <th>2018Q4</th>\n      <th>2019Q1</th>\n      <th>2019Q2</th>\n      <th>2019Q3</th>\n      <th>2019Q4</th>\n      <th>2020Q1</th>\n      <th>2020Q2</th>\n    </tr>\n  </thead>\n  <tbody>\n    <tr>\n      <th>10</th>\n      <td>SA</td>\n      <td>T</td>\n      <td>Y15-74</td>\n      <td>PC_ACT</td>\n      <td>FI</td>\n      <td>NaN</td>\n      <td>15.5</td>\n      <td>15.1</td>\n      <td>14.5</td>\n      <td>14.1</td>\n      <td>...</td>\n      <td>8.3</td>\n      <td>7.2</td>\n      <td>7.2</td>\n      <td>6.7</td>\n      <td>6.7</td>\n      <td>6.6</td>\n      <td>6.8</td>\n      <td>6.8</td>\n      <td>6.8</td>\n      <td>7.7</td>\n    </tr>\n  </tbody>\n</table>\n<p>1 rows × 107 columns</p>\n</div>"
     },
     "metadata": {},
     "execution_count": 13
    }
   ],
   "source": [
    "ue_df = eurostat.get_data_df('tipsun30')\n",
    "ue_df = ue_df[ue_df['geo\\\\time'].str.match('FI') & ue_df['unit'].str.match('PC_ACT')]\n",
    "ue_df.head()"
   ]
  },
  {
   "cell_type": "code",
   "execution_count": null,
   "metadata": {},
   "outputs": [],
   "source": []
  }
 ]
}