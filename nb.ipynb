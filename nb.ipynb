{
 "metadata": {
  "language_info": {
   "codemirror_mode": {
    "name": "ipython",
    "version": 3
   },
   "file_extension": ".py",
   "mimetype": "text/x-python",
   "name": "python",
   "nbconvert_exporter": "python",
   "pygments_lexer": "ipython3",
   "version": "3.8.3-final"
  },
  "orig_nbformat": 2,
  "kernelspec": {
   "name": "Python 3.8.3 64-bit ('base': conda)",
   "display_name": "Python 3.8.3 64-bit ('base': conda)",
   "metadata": {
    "interpreter": {
     "hash": "c0fcc2a44fcf227b4f1f25af2bd094a575f895c0212a232970ea1cf881242b12"
    }
   }
  }
 },
 "nbformat": 4,
 "nbformat_minor": 2,
 "cells": [
  {
   "cell_type": "code",
   "execution_count": 1,
   "metadata": {},
   "outputs": [],
   "source": [
    "import numpy as np\n",
    "from matplotlib import rcParams\n",
    "import matplotlib.pyplot as plt\n",
    "import pandas as pd\n",
    "import statsmodels.api as sm\n",
    "import scipy.optimize as opt\n",
    "import scipy.interpolate as interp\n",
    "from scipy.stats import norm\n",
    "from numba import jit, njit, int32, float64\n",
    "import quantecon as qe\n",
    "\n",
    "import seaborn as sns\n",
    "from matplotlib import cm\n",
    "from mpl_toolkits.mplot3d.axes3d import Axes3D\n",
    "\n",
    "import eurostat"
   ]
  },
  {
   "cell_type": "code",
   "execution_count": 2,
   "metadata": {},
   "outputs": [],
   "source": [
    "m = {\n",
    "    'Jan': 1,\n",
    "    'Feb': 2,\n",
    "    'Mar': 3,\n",
    "    'Apr': 4,\n",
    "    'May': 5,\n",
    "    'Jun': 6,\n",
    "    'Jul': 7,\n",
    "    'Aug': 8,\n",
    "    'Sep': 9,\n",
    "    'Oct': 10,\n",
    "    'Nov': 11,\n",
    "    'Dec': 12\n",
    "}"
   ]
  },
  {
   "cell_type": "code",
   "execution_count": 42,
   "metadata": {},
   "outputs": [
    {
     "output_type": "execute_result",
     "data": {
      "text/plain": [
       "           2008Q1    2008Q2  2008Q3    2008Q4    2009Q1    2009Q2  2009Q3  \\\n",
       " %-change     3.6  2.233333     0.6  3.066667  5.766667  8.766667    12.6   \n",
       "\n",
       "              2009Q4     2010Q1     2010Q2  ...    2018Q2    2018Q3  2018Q4  \\\n",
       " %-change  12.133333  11.266667  10.033333  ...  7.333333  6.766667     6.7   \n",
       "\n",
       "           2019Q1    2019Q2    2019Q3    2019Q4  2020Q1     2020Q2  2020Q3  \n",
       " %-change     6.8  7.233333  8.033333  8.233333     8.8  12.333333    13.5  \n",
       "\n",
       "[1 rows x 51 columns]"
      ],
      "text/html": "<div>\n<style scoped>\n    .dataframe tbody tr th:only-of-type {\n        vertical-align: middle;\n    }\n\n    .dataframe tbody tr th {\n        vertical-align: top;\n    }\n\n    .dataframe thead th {\n        text-align: right;\n    }\n</style>\n<table border=\"1\" class=\"dataframe\">\n  <thead>\n    <tr style=\"text-align: right;\">\n      <th></th>\n      <th>2008Q1</th>\n      <th>2008Q2</th>\n      <th>2008Q3</th>\n      <th>2008Q4</th>\n      <th>2009Q1</th>\n      <th>2009Q2</th>\n      <th>2009Q3</th>\n      <th>2009Q4</th>\n      <th>2010Q1</th>\n      <th>2010Q2</th>\n      <th>...</th>\n      <th>2018Q2</th>\n      <th>2018Q3</th>\n      <th>2018Q4</th>\n      <th>2019Q1</th>\n      <th>2019Q2</th>\n      <th>2019Q3</th>\n      <th>2019Q4</th>\n      <th>2020Q1</th>\n      <th>2020Q2</th>\n      <th>2020Q3</th>\n    </tr>\n  </thead>\n  <tbody>\n    <tr>\n      <th>%-change</th>\n      <td>3.6</td>\n      <td>2.233333</td>\n      <td>0.6</td>\n      <td>3.066667</td>\n      <td>5.766667</td>\n      <td>8.766667</td>\n      <td>12.6</td>\n      <td>12.133333</td>\n      <td>11.266667</td>\n      <td>10.033333</td>\n      <td>...</td>\n      <td>7.333333</td>\n      <td>6.766667</td>\n      <td>6.7</td>\n      <td>6.8</td>\n      <td>7.233333</td>\n      <td>8.033333</td>\n      <td>8.233333</td>\n      <td>8.8</td>\n      <td>12.333333</td>\n      <td>13.5</td>\n    </tr>\n  </tbody>\n</table>\n<p>1 rows × 51 columns</p>\n</div>"
     },
     "metadata": {},
     "execution_count": 42
    }
   ],
   "source": [
    "m_aggregates_df = pd.read_csv('/Users/santerivaataja/Desktop/inflation-and-unemployment-lr.nosync/monetary-aggregates.csv')\n",
    "m_aggregates_df = m_aggregates_df.set_index('date')\n",
    "m_aggregates_df.index = [f'{i[:4]}-{m[i[4:]]}' for i in m_aggregates_df.index]\n",
    "mq_aggreages_df = m_aggregates_df.groupby(pd.PeriodIndex(m_aggregates_df.index, freq='Q'), axis=0).mean()\n",
    "mq_aggreages_df = mq_aggreages_df.drop(mq_aggreages_df.columns[:2], axis=1).transpose()\n",
    "mq_aggreages_df.columns = mq_aggreages_df.columns.astype(str)\n",
    "mq_aggreages_df = mq_aggreages_df.drop(mq_aggreages_df.columns[:list(mq_aggreages_df.columns).index('2008Q1')], axis=1)\n",
    "mq_aggreages_df.head()"
   ]
  },
  {
   "cell_type": "code",
   "execution_count": 41,
   "metadata": {},
   "outputs": [
    {
     "output_type": "execute_result",
     "data": {
      "text/plain": [
       "    2008Q1  2008Q2  2008Q3  2008Q4  2009Q1  2009Q2  2009Q3  2009Q4  2010Q1  \\\n",
       "10     6.3     6.2     6.3     6.6     7.2     8.4     8.5     8.9     8.8   \n",
       "\n",
       "    2010Q2  ...  2018Q1  2018Q2  2018Q3  2018Q4  2019Q1  2019Q2  2019Q3  \\\n",
       "10     8.4  ...     8.3     7.2     7.2     6.7     6.7     6.6     6.8   \n",
       "\n",
       "    2019Q4  2020Q1  2020Q2  \n",
       "10     6.8     6.8     7.7  \n",
       "\n",
       "[1 rows x 50 columns]"
      ],
      "text/html": "<div>\n<style scoped>\n    .dataframe tbody tr th:only-of-type {\n        vertical-align: middle;\n    }\n\n    .dataframe tbody tr th {\n        vertical-align: top;\n    }\n\n    .dataframe thead th {\n        text-align: right;\n    }\n</style>\n<table border=\"1\" class=\"dataframe\">\n  <thead>\n    <tr style=\"text-align: right;\">\n      <th></th>\n      <th>2008Q1</th>\n      <th>2008Q2</th>\n      <th>2008Q3</th>\n      <th>2008Q4</th>\n      <th>2009Q1</th>\n      <th>2009Q2</th>\n      <th>2009Q3</th>\n      <th>2009Q4</th>\n      <th>2010Q1</th>\n      <th>2010Q2</th>\n      <th>...</th>\n      <th>2018Q1</th>\n      <th>2018Q2</th>\n      <th>2018Q3</th>\n      <th>2018Q4</th>\n      <th>2019Q1</th>\n      <th>2019Q2</th>\n      <th>2019Q3</th>\n      <th>2019Q4</th>\n      <th>2020Q1</th>\n      <th>2020Q2</th>\n    </tr>\n  </thead>\n  <tbody>\n    <tr>\n      <th>10</th>\n      <td>6.3</td>\n      <td>6.2</td>\n      <td>6.3</td>\n      <td>6.6</td>\n      <td>7.2</td>\n      <td>8.4</td>\n      <td>8.5</td>\n      <td>8.9</td>\n      <td>8.8</td>\n      <td>8.4</td>\n      <td>...</td>\n      <td>8.3</td>\n      <td>7.2</td>\n      <td>7.2</td>\n      <td>6.7</td>\n      <td>6.7</td>\n      <td>6.6</td>\n      <td>6.8</td>\n      <td>6.8</td>\n      <td>6.8</td>\n      <td>7.7</td>\n    </tr>\n  </tbody>\n</table>\n<p>1 rows × 50 columns</p>\n</div>"
     },
     "metadata": {},
     "execution_count": 41
    }
   ],
   "source": [
    "ue_df = eurostat.get_data_df('tipsun30')\n",
    "ue_df = ue_df[ue_df['geo\\\\time'].str.match('FI') & ue_df['unit'].str.match('PC_ACT')]\n",
    "ue_df = ue_df.drop(ue_df.columns[:list(ue_df.columns).index('2008Q1')], axis=1)\n",
    "ue_df.head()"
   ]
  },
  {
   "cell_type": "code",
   "execution_count": 43,
   "metadata": {},
   "outputs": [
    {
     "output_type": "execute_result",
     "data": {
      "text/plain": [
       "    2008Q1  2007Q4  2007Q3  2007Q2  2007Q1  2006Q4  2006Q3  2006Q2  2006Q1  \\\n",
       "13    4.07    4.31    4.44    4.38    4.04     3.8    3.94    3.95    3.45   \n",
       "\n",
       "    2005Q4  ...  1982Q2  1982Q1  1981Q4  1981Q3  1981Q2  1981Q1  1980Q4  \\\n",
       "13     3.3  ...     NaN     NaN     NaN     NaN     NaN     NaN     NaN   \n",
       "\n",
       "    1980Q3  1980Q2  1980Q1  \n",
       "13     NaN     NaN     NaN  \n",
       "\n",
       "[1 rows x 113 columns]"
      ],
      "text/html": "<div>\n<style scoped>\n    .dataframe tbody tr th:only-of-type {\n        vertical-align: middle;\n    }\n\n    .dataframe tbody tr th {\n        vertical-align: top;\n    }\n\n    .dataframe thead th {\n        text-align: right;\n    }\n</style>\n<table border=\"1\" class=\"dataframe\">\n  <thead>\n    <tr style=\"text-align: right;\">\n      <th></th>\n      <th>2008Q1</th>\n      <th>2007Q4</th>\n      <th>2007Q3</th>\n      <th>2007Q2</th>\n      <th>2007Q1</th>\n      <th>2006Q4</th>\n      <th>2006Q3</th>\n      <th>2006Q2</th>\n      <th>2006Q1</th>\n      <th>2005Q4</th>\n      <th>...</th>\n      <th>1982Q2</th>\n      <th>1982Q1</th>\n      <th>1981Q4</th>\n      <th>1981Q3</th>\n      <th>1981Q2</th>\n      <th>1981Q1</th>\n      <th>1980Q4</th>\n      <th>1980Q3</th>\n      <th>1980Q2</th>\n      <th>1980Q1</th>\n    </tr>\n  </thead>\n  <tbody>\n    <tr>\n      <th>13</th>\n      <td>4.07</td>\n      <td>4.31</td>\n      <td>4.44</td>\n      <td>4.38</td>\n      <td>4.04</td>\n      <td>3.8</td>\n      <td>3.94</td>\n      <td>3.95</td>\n      <td>3.45</td>\n      <td>3.3</td>\n      <td>...</td>\n      <td>NaN</td>\n      <td>NaN</td>\n      <td>NaN</td>\n      <td>NaN</td>\n      <td>NaN</td>\n      <td>NaN</td>\n      <td>NaN</td>\n      <td>NaN</td>\n      <td>NaN</td>\n      <td>NaN</td>\n    </tr>\n  </tbody>\n</table>\n<p>1 rows × 113 columns</p>\n</div>"
     },
     "metadata": {},
     "execution_count": 43
    }
   ],
   "source": [
    "EMU_conv_df = eurostat.get_data_df('irt_lt_mcby_q')\n",
    "EMU_conv_df = EMU_conv_df[EMU_conv_df['geo\\\\time'].str.match('FI')]\n",
    "EMU_conv_df = EMU_conv_df.drop(EMU_conv_df.columns[:list(EMU_conv_df.columns).index('2008Q1')], axis=1)\n",
    "EMU_conv_df.head()"
   ]
  },
  {
   "cell_type": "code",
   "execution_count": 44,
   "metadata": {},
   "outputs": [],
   "source": [
    "cpi = eurostat.get_data_df('tec00118')\n",
    "cpi = cpi[cpi['geo\\\\time'].str.match('FI')]\n",
    "cpi = cpi.drop(cpi.columns[:3], axis=1)\n",
    "cpi.head()"
   ]
  },
  {
   "cell_type": "code",
   "execution_count": 47,
   "metadata": {},
   "outputs": [
    {
     "output_type": "error",
     "ename": "TypeError",
     "evalue": "missing a required argument: 'y'",
     "traceback": [
      "\u001b[0;31m---------------------------------------------------------------------------\u001b[0m",
      "\u001b[0;31mTypeError\u001b[0m                                 Traceback (most recent call last)",
      "\u001b[0;32m<ipython-input-47-abda90288bf3>\u001b[0m in \u001b[0;36m<module>\u001b[0;34m\u001b[0m\n\u001b[1;32m      1\u001b[0m \u001b[0mfig\u001b[0m\u001b[0;34m,\u001b[0m \u001b[0maxs\u001b[0m \u001b[0;34m=\u001b[0m \u001b[0mplt\u001b[0m\u001b[0;34m.\u001b[0m\u001b[0msubplots\u001b[0m\u001b[0;34m(\u001b[0m\u001b[0;36m2\u001b[0m\u001b[0;34m,\u001b[0m\u001b[0;36m2\u001b[0m\u001b[0;34m)\u001b[0m\u001b[0;34m\u001b[0m\u001b[0;34m\u001b[0m\u001b[0m\n\u001b[0;32m----> 2\u001b[0;31m \u001b[0maxs\u001b[0m\u001b[0;34m[\u001b[0m\u001b[0;36m0\u001b[0m\u001b[0;34m,\u001b[0m\u001b[0;36m0\u001b[0m\u001b[0;34m]\u001b[0m\u001b[0;34m.\u001b[0m\u001b[0mscatter\u001b[0m\u001b[0;34m(\u001b[0m\u001b[0mmq_aggreages_df\u001b[0m\u001b[0;34m)\u001b[0m\u001b[0;34m\u001b[0m\u001b[0;34m\u001b[0m\u001b[0m\n\u001b[0m\u001b[1;32m      3\u001b[0m \u001b[0maxs\u001b[0m\u001b[0;34m[\u001b[0m\u001b[0;36m0\u001b[0m\u001b[0;34m,\u001b[0m\u001b[0;36m0\u001b[0m\u001b[0;34m]\u001b[0m\u001b[0;34m.\u001b[0m\u001b[0mtitle\u001b[0m\u001b[0;34m(\u001b[0m\u001b[0;34m'M1'\u001b[0m\u001b[0;34m)\u001b[0m\u001b[0;34m\u001b[0m\u001b[0;34m\u001b[0m\u001b[0m\n\u001b[1;32m      4\u001b[0m \u001b[0maxs\u001b[0m\u001b[0;34m[\u001b[0m\u001b[0;36m1\u001b[0m\u001b[0;34m,\u001b[0m\u001b[0;36m0\u001b[0m\u001b[0;34m]\u001b[0m\u001b[0;34m.\u001b[0m\u001b[0mscatter\u001b[0m\u001b[0;34m(\u001b[0m\u001b[0mue_df\u001b[0m\u001b[0;34m)\u001b[0m\u001b[0;34m\u001b[0m\u001b[0;34m\u001b[0m\u001b[0m\n\u001b[1;32m      5\u001b[0m \u001b[0maxs\u001b[0m\u001b[0;34m[\u001b[0m\u001b[0;36m1\u001b[0m\u001b[0;34m,\u001b[0m\u001b[0;36m0\u001b[0m\u001b[0;34m]\u001b[0m\u001b[0;34m.\u001b[0m\u001b[0mtitle\u001b[0m\u001b[0;34m(\u001b[0m\u001b[0;34m'Unemployment'\u001b[0m\u001b[0;34m)\u001b[0m\u001b[0;34m\u001b[0m\u001b[0;34m\u001b[0m\u001b[0m\n",
      "\u001b[0;32m~/anaconda3/lib/python3.8/site-packages/matplotlib/__init__.py\u001b[0m in \u001b[0;36minner\u001b[0;34m(ax, data, *args, **kwargs)\u001b[0m\n\u001b[1;32m   1563\u001b[0m     \u001b[0;32mdef\u001b[0m \u001b[0minner\u001b[0m\u001b[0;34m(\u001b[0m\u001b[0max\u001b[0m\u001b[0;34m,\u001b[0m \u001b[0;34m*\u001b[0m\u001b[0margs\u001b[0m\u001b[0;34m,\u001b[0m \u001b[0mdata\u001b[0m\u001b[0;34m=\u001b[0m\u001b[0;32mNone\u001b[0m\u001b[0;34m,\u001b[0m \u001b[0;34m**\u001b[0m\u001b[0mkwargs\u001b[0m\u001b[0;34m)\u001b[0m\u001b[0;34m:\u001b[0m\u001b[0;34m\u001b[0m\u001b[0;34m\u001b[0m\u001b[0m\n\u001b[1;32m   1564\u001b[0m         \u001b[0;32mif\u001b[0m \u001b[0mdata\u001b[0m \u001b[0;32mis\u001b[0m \u001b[0;32mNone\u001b[0m\u001b[0;34m:\u001b[0m\u001b[0;34m\u001b[0m\u001b[0;34m\u001b[0m\u001b[0m\n\u001b[0;32m-> 1565\u001b[0;31m             \u001b[0;32mreturn\u001b[0m \u001b[0mfunc\u001b[0m\u001b[0;34m(\u001b[0m\u001b[0max\u001b[0m\u001b[0;34m,\u001b[0m \u001b[0;34m*\u001b[0m\u001b[0mmap\u001b[0m\u001b[0;34m(\u001b[0m\u001b[0msanitize_sequence\u001b[0m\u001b[0;34m,\u001b[0m \u001b[0margs\u001b[0m\u001b[0;34m)\u001b[0m\u001b[0;34m,\u001b[0m \u001b[0;34m**\u001b[0m\u001b[0mkwargs\u001b[0m\u001b[0;34m)\u001b[0m\u001b[0;34m\u001b[0m\u001b[0;34m\u001b[0m\u001b[0m\n\u001b[0m\u001b[1;32m   1566\u001b[0m \u001b[0;34m\u001b[0m\u001b[0m\n\u001b[1;32m   1567\u001b[0m         \u001b[0mbound\u001b[0m \u001b[0;34m=\u001b[0m \u001b[0mnew_sig\u001b[0m\u001b[0;34m.\u001b[0m\u001b[0mbind\u001b[0m\u001b[0;34m(\u001b[0m\u001b[0max\u001b[0m\u001b[0;34m,\u001b[0m \u001b[0;34m*\u001b[0m\u001b[0margs\u001b[0m\u001b[0;34m,\u001b[0m \u001b[0;34m**\u001b[0m\u001b[0mkwargs\u001b[0m\u001b[0;34m)\u001b[0m\u001b[0;34m\u001b[0m\u001b[0;34m\u001b[0m\u001b[0m\n",
      "\u001b[0;32m~/anaconda3/lib/python3.8/site-packages/matplotlib/cbook/deprecation.py\u001b[0m in \u001b[0;36mwrapper\u001b[0;34m(*args, **kwargs)\u001b[0m\n\u001b[1;32m    347\u001b[0m     \u001b[0;34m@\u001b[0m\u001b[0mfunctools\u001b[0m\u001b[0;34m.\u001b[0m\u001b[0mwraps\u001b[0m\u001b[0;34m(\u001b[0m\u001b[0mfunc\u001b[0m\u001b[0;34m)\u001b[0m\u001b[0;34m\u001b[0m\u001b[0;34m\u001b[0m\u001b[0m\n\u001b[1;32m    348\u001b[0m     \u001b[0;32mdef\u001b[0m \u001b[0mwrapper\u001b[0m\u001b[0;34m(\u001b[0m\u001b[0;34m*\u001b[0m\u001b[0margs\u001b[0m\u001b[0;34m,\u001b[0m \u001b[0;34m**\u001b[0m\u001b[0mkwargs\u001b[0m\u001b[0;34m)\u001b[0m\u001b[0;34m:\u001b[0m\u001b[0;34m\u001b[0m\u001b[0;34m\u001b[0m\u001b[0m\n\u001b[0;32m--> 349\u001b[0;31m         \u001b[0marguments\u001b[0m \u001b[0;34m=\u001b[0m \u001b[0mfunc\u001b[0m\u001b[0;34m.\u001b[0m\u001b[0m__signature__\u001b[0m\u001b[0;34m.\u001b[0m\u001b[0mbind\u001b[0m\u001b[0;34m(\u001b[0m\u001b[0;34m*\u001b[0m\u001b[0margs\u001b[0m\u001b[0;34m,\u001b[0m \u001b[0;34m**\u001b[0m\u001b[0mkwargs\u001b[0m\u001b[0;34m)\u001b[0m\u001b[0;34m.\u001b[0m\u001b[0marguments\u001b[0m\u001b[0;34m\u001b[0m\u001b[0;34m\u001b[0m\u001b[0m\n\u001b[0m\u001b[1;32m    350\u001b[0m         \u001b[0;31m# We cannot just check `name not in arguments` because the pyplot\u001b[0m\u001b[0;34m\u001b[0m\u001b[0;34m\u001b[0m\u001b[0;34m\u001b[0m\u001b[0m\n\u001b[1;32m    351\u001b[0m         \u001b[0;31m# wrappers always pass all arguments explicitly.\u001b[0m\u001b[0;34m\u001b[0m\u001b[0;34m\u001b[0m\u001b[0;34m\u001b[0m\u001b[0m\n",
      "\u001b[0;32m~/anaconda3/lib/python3.8/inspect.py\u001b[0m in \u001b[0;36mbind\u001b[0;34m(self, *args, **kwargs)\u001b[0m\n\u001b[1;32m   3023\u001b[0m         \u001b[0;32mif\u001b[0m \u001b[0mthe\u001b[0m \u001b[0mpassed\u001b[0m \u001b[0marguments\u001b[0m \u001b[0mcan\u001b[0m \u001b[0;32mnot\u001b[0m \u001b[0mbe\u001b[0m \u001b[0mbound\u001b[0m\u001b[0;34m.\u001b[0m\u001b[0;34m\u001b[0m\u001b[0;34m\u001b[0m\u001b[0m\n\u001b[1;32m   3024\u001b[0m         \"\"\"\n\u001b[0;32m-> 3025\u001b[0;31m         \u001b[0;32mreturn\u001b[0m \u001b[0mself\u001b[0m\u001b[0;34m.\u001b[0m\u001b[0m_bind\u001b[0m\u001b[0;34m(\u001b[0m\u001b[0margs\u001b[0m\u001b[0;34m,\u001b[0m \u001b[0mkwargs\u001b[0m\u001b[0;34m)\u001b[0m\u001b[0;34m\u001b[0m\u001b[0;34m\u001b[0m\u001b[0m\n\u001b[0m\u001b[1;32m   3026\u001b[0m \u001b[0;34m\u001b[0m\u001b[0m\n\u001b[1;32m   3027\u001b[0m     \u001b[0;32mdef\u001b[0m \u001b[0mbind_partial\u001b[0m\u001b[0;34m(\u001b[0m\u001b[0mself\u001b[0m\u001b[0;34m,\u001b[0m \u001b[0;34m/\u001b[0m\u001b[0;34m,\u001b[0m \u001b[0;34m*\u001b[0m\u001b[0margs\u001b[0m\u001b[0;34m,\u001b[0m \u001b[0;34m**\u001b[0m\u001b[0mkwargs\u001b[0m\u001b[0;34m)\u001b[0m\u001b[0;34m:\u001b[0m\u001b[0;34m\u001b[0m\u001b[0;34m\u001b[0m\u001b[0m\n",
      "\u001b[0;32m~/anaconda3/lib/python3.8/inspect.py\u001b[0m in \u001b[0;36m_bind\u001b[0;34m(self, args, kwargs, partial)\u001b[0m\n\u001b[1;32m   2938\u001b[0m                             \u001b[0mmsg\u001b[0m \u001b[0;34m=\u001b[0m \u001b[0;34m'missing a required argument: {arg!r}'\u001b[0m\u001b[0;34m\u001b[0m\u001b[0;34m\u001b[0m\u001b[0m\n\u001b[1;32m   2939\u001b[0m                             \u001b[0mmsg\u001b[0m \u001b[0;34m=\u001b[0m \u001b[0mmsg\u001b[0m\u001b[0;34m.\u001b[0m\u001b[0mformat\u001b[0m\u001b[0;34m(\u001b[0m\u001b[0marg\u001b[0m\u001b[0;34m=\u001b[0m\u001b[0mparam\u001b[0m\u001b[0;34m.\u001b[0m\u001b[0mname\u001b[0m\u001b[0;34m)\u001b[0m\u001b[0;34m\u001b[0m\u001b[0;34m\u001b[0m\u001b[0m\n\u001b[0;32m-> 2940\u001b[0;31m                             \u001b[0;32mraise\u001b[0m \u001b[0mTypeError\u001b[0m\u001b[0;34m(\u001b[0m\u001b[0mmsg\u001b[0m\u001b[0;34m)\u001b[0m \u001b[0;32mfrom\u001b[0m \u001b[0;32mNone\u001b[0m\u001b[0;34m\u001b[0m\u001b[0;34m\u001b[0m\u001b[0m\n\u001b[0m\u001b[1;32m   2941\u001b[0m             \u001b[0;32melse\u001b[0m\u001b[0;34m:\u001b[0m\u001b[0;34m\u001b[0m\u001b[0;34m\u001b[0m\u001b[0m\n\u001b[1;32m   2942\u001b[0m                 \u001b[0;31m# We have a positional argument to process\u001b[0m\u001b[0;34m\u001b[0m\u001b[0;34m\u001b[0m\u001b[0;34m\u001b[0m\u001b[0m\n",
      "\u001b[0;31mTypeError\u001b[0m: missing a required argument: 'y'"
     ]
    }
   ],
   "source": [
    "fig, axs = plt.subplots(2,2)\n",
    "axs[0,0].scatter(mq_aggreages_df)\n",
    "axs[0,0].title('M1')\n",
    "axs[1,0].scatter(ue_df)\n",
    "axs[1,0].title('Unemployment')\n",
    "axs[0,1].scatter(EMU_conv_df)\n",
    "axs[0,1].title('Interest rate')\n",
    "axs[1,1].scatter(cpi)\n",
    "axs[1,1].title('CPI')\n"
   ]
  },
  {
   "cell_type": "code",
   "execution_count": null,
   "metadata": {},
   "outputs": [],
   "source": []
  }
 ]
}